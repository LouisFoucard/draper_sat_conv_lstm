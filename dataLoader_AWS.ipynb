{
 "metadata": {
  "name": ""
 },
 "nbformat": 3,
 "nbformat_minor": 0,
 "worksheets": [
  {
   "cells": [
    {
     "cell_type": "code",
     "collapsed": false,
     "input": [
      "import os\n",
      "from tqdm import tqdm\n",
      "import scipy as sp\n",
      "import scipy.misc\n",
      "import matplotlib.pyplot as plt\n",
      "%matplotlib inline\n",
      "# import imreg_dft as ird\n",
      "import numpy as np\n",
      "import os, sys\n",
      "from PIL import Image\n",
      "from resizeimage import resizeimage\n",
      "from skimage.transform import downscale_local_mean\n",
      "import itertools\n",
      "from scipy.stats import spearmanr"
     ],
     "language": "python",
     "metadata": {},
     "outputs": [],
     "prompt_number": 2
    },
    {
     "cell_type": "code",
     "collapsed": false,
     "input": [
      "W = 225\n",
      "H = 225\n",
      "L = 5\n",
      "\n",
      "\n",
      "trueOrder = range(L)\n",
      "\n",
      "perms = [p for p in itertools.permutations(range(L))]\n",
      "perms = perms[::12]\n",
      "\n",
      "def read_and_downscale(f):\n",
      "    img = plt.imread(f)\n",
      "    ds = downscale_local_mean(img[:,:,2], (10, 10))\n",
      "    return ds[:W, :H]\n",
      "def read_ds_set(setn):\n",
      "    batch = np.zeros((L,W,H))\n",
      "    match_pre = \"../train_sm/set\" + str(setn) + \"_\"\n",
      "    for n in range(1,6):\n",
      "        batch[n-1,...] = read_and_downscale(match_pre + str(n) + \".jpeg\") \n",
      "    return batch\n",
      "\n",
      "def load_data():\n",
      "    n  = 0\n",
      "    batchSetNames =[]\n",
      "    X = np.array([]).reshape((0,L,W,H))\n",
      "    y =[]\n",
      "    for i in tqdm(range(300)):\n",
      "        try:\n",
      "            batch = read_ds_set(i)\n",
      "            \n",
      "            for p in perms:\n",
      "                #Compute spearman coefficient (~how ordered that permutation is compared to the true order):\n",
      "                score = spearmanr(trueOrder,p)\n",
      "                permutedBatch = batch[p,...]\n",
      "                #normalize image w/r to the first image in that permutation:\n",
      "                Im0Mean = permutedBatch[0].mean()\n",
      "                Im0Std = (permutedBatch[0]-Im0Mean).std()\n",
      "                permutedBatch -= Im0Mean\n",
      "                permutedBatch /= Im0Std\n",
      "                #Add image to the stack\n",
      "                X = np.vstack([X,permutedBatch.reshape(1,L,W,H)])\n",
      "                #and spearman score:\n",
      "                y.append(score[0])\n",
      "                #Get name of the set:\n",
      "                batchSetNames.append(i)\n",
      "            \n",
      "        except: \n",
      "            pass #\u00af\\_(\u30c4)_/\u00af\n",
      "    return X,np.array(y), batchSetNames"
     ],
     "language": "python",
     "metadata": {},
     "outputs": [],
     "prompt_number": 5
    },
    {
     "cell_type": "code",
     "collapsed": false,
     "input": [
      "X_train,y_train, setNames_train = load_data()"
     ],
     "language": "python",
     "metadata": {},
     "outputs": [
      {
       "output_type": "stream",
       "stream": "stderr",
       "text": [
        "\r",
        "  0%|          | 0/300 [00:00<?, ?it/s]"
       ]
      },
      {
       "output_type": "stream",
       "stream": "stderr",
       "text": [
        "\r",
        "  2%|\u258f         | 5/300 [00:01<01:30,  3.24it/s]"
       ]
      },
      {
       "output_type": "stream",
       "stream": "stderr",
       "text": [
        "\r",
        "  2%|\u258f         | 6/300 [00:03<03:33,  1.38it/s]"
       ]
      },
      {
       "output_type": "stream",
       "stream": "stderr",
       "text": [
        "\r",
        "  4%|\u258e         | 11/300 [00:05<02:59,  1.61it/s]"
       ]
      },
      {
       "output_type": "stream",
       "stream": "stderr",
       "text": [
        "\r",
        "  4%|\u258d         | 13/300 [00:07<03:41,  1.30it/s]"
       ]
      },
      {
       "output_type": "stream",
       "stream": "stderr",
       "text": [
        "\r",
        "  6%|\u258c         | 17/300 [00:09<03:23,  1.39it/s]"
       ]
      },
      {
       "output_type": "stream",
       "stream": "stderr",
       "text": [
        "\r",
        "  7%|\u258b         | 21/300 [00:11<03:00,  1.55it/s]"
       ]
      },
      {
       "output_type": "stream",
       "stream": "stderr",
       "text": [
        "\r",
        "  7%|\u258b         | 22/300 [00:14<05:27,  1.18s/it]"
       ]
      },
      {
       "output_type": "stream",
       "stream": "stderr",
       "text": [
        "\r",
        "  9%|\u258a         | 26/300 [00:16<04:35,  1.01s/it]"
       ]
      },
      {
       "output_type": "stream",
       "stream": "stderr",
       "text": [
        "\r",
        " 10%|\u2588         | 30/300 [00:18<03:56,  1.14it/s]"
       ]
      },
      {
       "output_type": "stream",
       "stream": "stderr",
       "text": [
        "\r",
        " 11%|\u2588         | 32/300 [00:21<04:40,  1.05s/it]"
       ]
      },
      {
       "output_type": "stream",
       "stream": "stderr",
       "text": [
        "\r",
        " 12%|\u2588\u258f        | 36/300 [00:24<04:13,  1.04it/s]"
       ]
      },
      {
       "output_type": "stream",
       "stream": "stderr",
       "text": [
        "\r",
        " 15%|\u2588\u258d        | 44/300 [00:27<03:17,  1.30it/s]"
       ]
      },
      {
       "output_type": "stream",
       "stream": "stderr",
       "text": [
        "\r",
        " 15%|\u2588\u258c        | 45/300 [00:30<05:43,  1.35s/it]"
       ]
      },
      {
       "output_type": "stream",
       "stream": "stderr",
       "text": [
        "\r",
        " 17%|\u2588\u258b        | 51/300 [00:32<04:30,  1.09s/it]"
       ]
      },
      {
       "output_type": "stream",
       "stream": "stderr",
       "text": [
        "\r",
        " 18%|\u2588\u258a        | 54/300 [00:36<04:26,  1.08s/it]"
       ]
      },
      {
       "output_type": "stream",
       "stream": "stderr",
       "text": [
        "\r",
        " 19%|\u2588\u2589        | 58/300 [00:39<04:02,  1.00s/it]"
       ]
      },
      {
       "output_type": "stream",
       "stream": "stderr",
       "text": [
        "\r",
        " 20%|\u2588\u2589        | 59/300 [00:42<06:42,  1.67s/it]"
       ]
      },
      {
       "output_type": "stream",
       "stream": "stderr",
       "text": [
        "\r",
        " 20%|\u2588\u2588        | 60/300 [00:46<08:52,  2.22s/it]"
       ]
      },
      {
       "output_type": "stream",
       "stream": "stderr",
       "text": [
        "\r",
        " 23%|\u2588\u2588\u258e       | 70/300 [00:49<06:22,  1.66s/it]"
       ]
      },
      {
       "output_type": "stream",
       "stream": "stderr",
       "text": [
        "\r",
        " 26%|\u2588\u2588\u258b       | 79/300 [00:53<04:42,  1.28s/it]"
       ]
      },
      {
       "output_type": "stream",
       "stream": "stderr",
       "text": [
        "\r",
        " 27%|\u2588\u2588\u258b       | 80/300 [00:57<07:35,  2.07s/it]"
       ]
      },
      {
       "output_type": "stream",
       "stream": "stderr",
       "text": [
        "\r",
        " 32%|\u2588\u2588\u2588\u258f      | 95/300 [01:00<05:12,  1.53s/it]"
       ]
      },
      {
       "output_type": "stream",
       "stream": "stderr",
       "text": [
        "\r",
        " 33%|\u2588\u2588\u2588\u258e      | 98/300 [01:05<05:04,  1.51s/it]"
       ]
      }
     ],
     "prompt_number": "*"
    },
    {
     "cell_type": "code",
     "collapsed": false,
     "input": [
      "print X_train.shape, X_train.min(), X_train.max(), X_train.mean(), X_train.std()\n",
      "print y_train.shape, y_train.min(), y_train.max()\n",
      "print len(setNames_train)"
     ],
     "language": "python",
     "metadata": {},
     "outputs": [],
     "prompt_number": "*"
    },
    {
     "cell_type": "code",
     "collapsed": false,
     "input": [
      "import itertools\n",
      "from scipy.stats import spearmanr\n",
      "perms = itertools.permutations(range(5))\n",
      "trueOrder = range(5)\n",
      "corrCoeffs = []\n",
      "for p in perms:\n",
      "#     print X_train[0,p,...].shape\n",
      "    spearm = spearmanr(trueOrder,p)\n",
      "    corrCoeffs.append(spearm[0])\n",
      "    \n",
      "plt.plot(corrCoeffs[::7])"
     ],
     "language": "python",
     "metadata": {},
     "outputs": [],
     "prompt_number": "*"
    },
    {
     "cell_type": "code",
     "collapsed": false,
     "input": [
      "batch = 126\n",
      "print y_train[batch]\n",
      "for im in range(5):\n",
      "    plt.imshow(X_train[batch,im,...])\n",
      "    plt.show()\n",
      "    "
     ],
     "language": "python",
     "metadata": {},
     "outputs": [],
     "prompt_number": "*"
    },
    {
     "cell_type": "code",
     "collapsed": false,
     "input": [
      "np.save(\"X_train_step12\",X_train)\n",
      "np.save(\"y_train_step12\",y_train)\n",
      "np.save(\"setNames_train_step12\",setNames_train)"
     ],
     "language": "python",
     "metadata": {},
     "outputs": [],
     "prompt_number": "*"
    },
    {
     "cell_type": "code",
     "collapsed": false,
     "input": [
      "X_train = np.load(\"X_train_step7.npy\")\n",
      "y_train = np.load(\"y_train_step7.npy\")\n",
      "setNames_train = np.load(\"setNames_train_step7.npy\")"
     ],
     "language": "python",
     "metadata": {},
     "outputs": []
    }
   ],
   "metadata": {}
  }
 ]
}